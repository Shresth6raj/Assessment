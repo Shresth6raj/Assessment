{
  "nbformat": 4,
  "nbformat_minor": 0,
  "metadata": {
    "colab": {
      "name": "Untitled0.ipynb",
      "provenance": [],
      "collapsed_sections": [],
      "authorship_tag": "ABX9TyMNWWckMrJhW0Br/81wze2k",
      "include_colab_link": true
    },
    "kernelspec": {
      "name": "python3",
      "display_name": "Python 3"
    }
  },
  "cells": [
    {
      "cell_type": "markdown",
      "metadata": {
        "id": "view-in-github",
        "colab_type": "text"
      },
      "source": [
        "<a href=\"https://colab.research.google.com/github/Shresth6raj/Calculator/blob/main/Untitled0.ipynb\" target=\"_parent\"><img src=\"https://colab.research.google.com/assets/colab-badge.svg\" alt=\"Open In Colab\"/></a>"
      ]
    },
    {
      "cell_type": "code",
      "metadata": {
        "id": "xYy5WmZ-Ggz8"
      },
      "source": [
        ""
      ],
      "execution_count": null,
      "outputs": []
    },
    {
      "cell_type": "code",
      "metadata": {
        "colab": {
          "base_uri": "https://localhost:8080/"
        },
        "id": "11UmX3wPGnVD",
        "outputId": "5a377e9a-2b3c-4ef6-ab99-f20102b1493b"
      },
      "source": [
        "pip install nltk"
      ],
      "execution_count": null,
      "outputs": [
        {
          "output_type": "stream",
          "text": [
            "Requirement already satisfied: nltk in /usr/local/lib/python3.6/dist-packages (3.2.5)\n",
            "Requirement already satisfied: six in /usr/local/lib/python3.6/dist-packages (from nltk) (1.15.0)\n"
          ],
          "name": "stdout"
        }
      ]
    },
    {
      "cell_type": "code",
      "metadata": {
        "colab": {
          "base_uri": "https://localhost:8080/"
        },
        "id": "4pye-QP7GsM1",
        "outputId": "93e0e5f2-1e85-46e9-a6d0-faa4cde4f0fd"
      },
      "source": [
        "pip install newspaper3k"
      ],
      "execution_count": null,
      "outputs": [
        {
          "output_type": "stream",
          "text": [
            "Collecting newspaper3k\n",
            "\u001b[?25l  Downloading https://files.pythonhosted.org/packages/d7/b9/51afecb35bb61b188a4b44868001de348a0e8134b4dfa00ffc191567c4b9/newspaper3k-0.2.8-py3-none-any.whl (211kB)\n",
            "\r\u001b[K     |█▌                              | 10kB 19.7MB/s eta 0:00:01\r\u001b[K     |███                             | 20kB 24.7MB/s eta 0:00:01\r\u001b[K     |████▋                           | 30kB 19.5MB/s eta 0:00:01\r\u001b[K     |██████▏                         | 40kB 12.7MB/s eta 0:00:01\r\u001b[K     |███████▊                        | 51kB 8.0MB/s eta 0:00:01\r\u001b[K     |█████████▎                      | 61kB 8.6MB/s eta 0:00:01\r\u001b[K     |██████████▉                     | 71kB 8.1MB/s eta 0:00:01\r\u001b[K     |████████████▍                   | 81kB 9.0MB/s eta 0:00:01\r\u001b[K     |██████████████                  | 92kB 9.5MB/s eta 0:00:01\r\u001b[K     |███████████████▌                | 102kB 9.8MB/s eta 0:00:01\r\u001b[K     |█████████████████               | 112kB 9.8MB/s eta 0:00:01\r\u001b[K     |██████████████████▋             | 122kB 9.8MB/s eta 0:00:01\r\u001b[K     |████████████████████▏           | 133kB 9.8MB/s eta 0:00:01\r\u001b[K     |█████████████████████▊          | 143kB 9.8MB/s eta 0:00:01\r\u001b[K     |███████████████████████▎        | 153kB 9.8MB/s eta 0:00:01\r\u001b[K     |████████████████████████▉       | 163kB 9.8MB/s eta 0:00:01\r\u001b[K     |██████████████████████████▍     | 174kB 9.8MB/s eta 0:00:01\r\u001b[K     |████████████████████████████    | 184kB 9.8MB/s eta 0:00:01\r\u001b[K     |█████████████████████████████▌  | 194kB 9.8MB/s eta 0:00:01\r\u001b[K     |███████████████████████████████ | 204kB 9.8MB/s eta 0:00:01\r\u001b[K     |████████████████████████████████| 215kB 9.8MB/s \n",
            "\u001b[?25hCollecting tinysegmenter==0.3\n",
            "  Downloading https://files.pythonhosted.org/packages/17/82/86982e4b6d16e4febc79c2a1d68ee3b707e8a020c5d2bc4af8052d0f136a/tinysegmenter-0.3.tar.gz\n",
            "Requirement already satisfied: beautifulsoup4>=4.4.1 in /usr/local/lib/python3.6/dist-packages (from newspaper3k) (4.6.3)\n",
            "Collecting feedparser>=5.2.1\n",
            "\u001b[?25l  Downloading https://files.pythonhosted.org/packages/1c/21/faf1bac028662cc8adb2b5ef7a6f3999a765baa2835331df365289b0ca56/feedparser-6.0.2-py3-none-any.whl (80kB)\n",
            "\u001b[K     |████████████████████████████████| 81kB 6.9MB/s \n",
            "\u001b[?25hRequirement already satisfied: python-dateutil>=2.5.3 in /usr/local/lib/python3.6/dist-packages (from newspaper3k) (2.8.1)\n",
            "Requirement already satisfied: PyYAML>=3.11 in /usr/local/lib/python3.6/dist-packages (from newspaper3k) (3.13)\n",
            "Requirement already satisfied: Pillow>=3.3.0 in /usr/local/lib/python3.6/dist-packages (from newspaper3k) (7.0.0)\n",
            "Requirement already satisfied: nltk>=3.2.1 in /usr/local/lib/python3.6/dist-packages (from newspaper3k) (3.2.5)\n",
            "Collecting feedfinder2>=0.0.4\n",
            "  Downloading https://files.pythonhosted.org/packages/35/82/1251fefec3bb4b03fd966c7e7f7a41c9fc2bb00d823a34c13f847fd61406/feedfinder2-0.0.4.tar.gz\n",
            "Collecting cssselect>=0.9.2\n",
            "  Downloading https://files.pythonhosted.org/packages/3b/d4/3b5c17f00cce85b9a1e6f91096e1cc8e8ede2e1be8e96b87ce1ed09e92c5/cssselect-1.1.0-py2.py3-none-any.whl\n",
            "Collecting tldextract>=2.0.1\n",
            "\u001b[?25l  Downloading https://files.pythonhosted.org/packages/7e/62/b6acd3129c5615b9860e670df07fd55b76175b63e6b7f68282c7cad38e9e/tldextract-3.1.0-py2.py3-none-any.whl (87kB)\n",
            "\u001b[K     |████████████████████████████████| 92kB 9.3MB/s \n",
            "\u001b[?25hRequirement already satisfied: requests>=2.10.0 in /usr/local/lib/python3.6/dist-packages (from newspaper3k) (2.23.0)\n",
            "Collecting jieba3k>=0.35.1\n",
            "\u001b[?25l  Downloading https://files.pythonhosted.org/packages/a9/cb/2c8332bcdc14d33b0bedd18ae0a4981a069c3513e445120da3c3f23a8aaa/jieba3k-0.35.1.zip (7.4MB)\n",
            "\u001b[K     |████████████████████████████████| 7.4MB 8.2MB/s \n",
            "\u001b[?25hRequirement already satisfied: lxml>=3.6.0 in /usr/local/lib/python3.6/dist-packages (from newspaper3k) (4.2.6)\n",
            "Collecting sgmllib3k\n",
            "  Downloading https://files.pythonhosted.org/packages/9e/bd/3704a8c3e0942d711c1299ebf7b9091930adae6675d7c8f476a7ce48653c/sgmllib3k-1.0.0.tar.gz\n",
            "Requirement already satisfied: six>=1.5 in /usr/local/lib/python3.6/dist-packages (from python-dateutil>=2.5.3->newspaper3k) (1.15.0)\n",
            "Requirement already satisfied: filelock>=3.0.8 in /usr/local/lib/python3.6/dist-packages (from tldextract>=2.0.1->newspaper3k) (3.0.12)\n",
            "Collecting requests-file>=1.4\n",
            "  Downloading https://files.pythonhosted.org/packages/77/86/cdb5e8eaed90796aa83a6d9f75cfbd37af553c47a291cd47bc410ef9bdb2/requests_file-1.5.1-py2.py3-none-any.whl\n",
            "Requirement already satisfied: idna in /usr/local/lib/python3.6/dist-packages (from tldextract>=2.0.1->newspaper3k) (2.10)\n",
            "Requirement already satisfied: chardet<4,>=3.0.2 in /usr/local/lib/python3.6/dist-packages (from requests>=2.10.0->newspaper3k) (3.0.4)\n",
            "Requirement already satisfied: certifi>=2017.4.17 in /usr/local/lib/python3.6/dist-packages (from requests>=2.10.0->newspaper3k) (2020.12.5)\n",
            "Requirement already satisfied: urllib3!=1.25.0,!=1.25.1,<1.26,>=1.21.1 in /usr/local/lib/python3.6/dist-packages (from requests>=2.10.0->newspaper3k) (1.24.3)\n",
            "Building wheels for collected packages: tinysegmenter, feedfinder2, jieba3k, sgmllib3k\n",
            "  Building wheel for tinysegmenter (setup.py) ... \u001b[?25l\u001b[?25hdone\n",
            "  Created wheel for tinysegmenter: filename=tinysegmenter-0.3-cp36-none-any.whl size=13538 sha256=8f99d62a44a1fcb86d5523dccbdcec97da72f60509384f43a5ef34b394a5b610\n",
            "  Stored in directory: /root/.cache/pip/wheels/81/2b/43/a02ede72324dd40cdd7ca53aad718c7710628e91b8b0dc0f02\n",
            "  Building wheel for feedfinder2 (setup.py) ... \u001b[?25l\u001b[?25hdone\n",
            "  Created wheel for feedfinder2: filename=feedfinder2-0.0.4-cp36-none-any.whl size=3356 sha256=0d10c1917bb03bc3958d2df6d488ec174890e87e7796502caefae577d2be9b7f\n",
            "  Stored in directory: /root/.cache/pip/wheels/de/03/ca/778e3a7a627e3d98836cc890e7cb40c7575424cfd3340f40ed\n",
            "  Building wheel for jieba3k (setup.py) ... \u001b[?25l\u001b[?25hdone\n",
            "  Created wheel for jieba3k: filename=jieba3k-0.35.1-cp36-none-any.whl size=7398405 sha256=ce5fa30913818414ff705a5f08ecf6df828e0399c527a28020d4443f2dc0e353\n",
            "  Stored in directory: /root/.cache/pip/wheels/83/15/9c/a3f1f67e7f7181170ad37d32e503c35da20627c013f438ed34\n",
            "  Building wheel for sgmllib3k (setup.py) ... \u001b[?25l\u001b[?25hdone\n",
            "  Created wheel for sgmllib3k: filename=sgmllib3k-1.0.0-cp36-none-any.whl size=6067 sha256=33bb5d0e8b426e7a2750aa0e37a333af2ed814e8d616c703b4c5d5def416eb3e\n",
            "  Stored in directory: /root/.cache/pip/wheels/f1/80/5a/444ba08a550cdd241bd9baf8bae44be750efe370adb944506a\n",
            "Successfully built tinysegmenter feedfinder2 jieba3k sgmllib3k\n",
            "Installing collected packages: tinysegmenter, sgmllib3k, feedparser, feedfinder2, cssselect, requests-file, tldextract, jieba3k, newspaper3k\n",
            "Successfully installed cssselect-1.1.0 feedfinder2-0.0.4 feedparser-6.0.2 jieba3k-0.35.1 newspaper3k-0.2.8 requests-file-1.5.1 sgmllib3k-1.0.0 tinysegmenter-0.3 tldextract-3.1.0\n"
          ],
          "name": "stdout"
        }
      ]
    },
    {
      "cell_type": "code",
      "metadata": {
        "id": "tEvNugphGzcN"
      },
      "source": [
        "from newspaper import Article\r\n",
        "import random\r\n",
        "import string\r\n",
        "import nltk\r\n",
        "from sklearn.feature_extraction.text import CountVectorizer\r\n",
        "from sklearn.metrics.pairwise import cosine_similarity\r\n",
        "import numpy as np\r\n",
        "import warnings\r\n",
        "warnings.filterwarnings('ignore')"
      ],
      "execution_count": null,
      "outputs": []
    },
    {
      "cell_type": "code",
      "metadata": {
        "colab": {
          "base_uri": "https://localhost:8080/"
        },
        "id": "l0T2T1_SIJna",
        "outputId": "31b42483-b526-4ab0-b2bf-d61383f75698"
      },
      "source": [
        "nltk.download('punkt',quiet=True)"
      ],
      "execution_count": null,
      "outputs": [
        {
          "output_type": "execute_result",
          "data": {
            "text/plain": [
              "True"
            ]
          },
          "metadata": {
            "tags": []
          },
          "execution_count": 5
        }
      ]
    },
    {
      "cell_type": "code",
      "metadata": {
        "id": "bj5yKHETIc9t"
      },
      "source": [
        "article=Article('https://docs.google.com/spreadsheets/d/1fskihU_iNx7oRIfNDdz1xem8wnSNN7hZegaSUDZZd_8/edit#gid=1864294515')\r\n",
        "article.download()\r\n",
        "article.parse()\r\n",
        "article.nlp()\r\n",
        "corpus=article.text"
      ],
      "execution_count": 114,
      "outputs": []
    },
    {
      "cell_type": "code",
      "metadata": {
        "colab": {
          "base_uri": "https://localhost:8080/"
        },
        "id": "HcZUBIlZJEkv",
        "outputId": "397e2504-0678-4be7-8e26-a61490bf585d"
      },
      "source": [
        "print(corpus)"
      ],
      "execution_count": 115,
      "outputs": [
        {
          "output_type": "stream",
          "text": [
            "One account. All of Google. Sign in to continue to Sheets\n"
          ],
          "name": "stdout"
        }
      ]
    },
    {
      "cell_type": "code",
      "metadata": {
        "id": "Vk3UbkCUJJaw"
      },
      "source": [
        "text=corpus\r\n",
        "sentence_list=nltk.sent_tokenize(text)\r\n"
      ],
      "execution_count": 116,
      "outputs": []
    },
    {
      "cell_type": "code",
      "metadata": {
        "colab": {
          "base_uri": "https://localhost:8080/"
        },
        "id": "hgpYZPxmJoq2",
        "outputId": "2d62e485-64d0-4b1b-f034-299498580f54"
      },
      "source": [
        "print(sentence_list)"
      ],
      "execution_count": 117,
      "outputs": [
        {
          "output_type": "stream",
          "text": [
            "['One account.', 'All of Google.', 'Sign in to continue to Sheets']\n"
          ],
          "name": "stdout"
        }
      ]
    },
    {
      "cell_type": "code",
      "metadata": {
        "id": "rokviR-EJrfM"
      },
      "source": [
        "def greeting_response(text):\r\n",
        "  text=text.lower()\r\n",
        "  bot_greetings=['hi','hey','hello']\r\n",
        "  user_greetings=['hi','hey','hello']\r\n",
        "\r\n",
        "  for word in text.split():\r\n",
        "    if word in user_greetings:\r\n",
        "      return random.choice(bot_greetings)\r\n",
        "\r\n",
        "  bot_greetings=['It may be myopia','It may be hypermetropio','It may be mygrain']\r\n",
        "  user_greetings=['head','pain','headache']\r\n",
        "\r\n",
        "  for word in text.split():\r\n",
        "    if word in user_greetings:\r\n",
        "      return random.choice(bot_greetings)\r\n",
        "  \r\n",
        "  bot_greetings=['Take a paracetamol']\r\n",
        "  user_greetings=['fever','vomitting','cold']\r\n",
        "  for word in text.split():\r\n",
        "    if word in user_greetings:\r\n",
        "      return random.choice(bot_greetings)"
      ],
      "execution_count": 146,
      "outputs": []
    },
    {
      "cell_type": "code",
      "metadata": {
        "id": "06XnyHnjL6lC"
      },
      "source": [
        "def index_sort(list_var):\r\n",
        "  length=len(list_var)\r\n",
        "  list_index=list(range(0, length))\r\n",
        "\r\n",
        "  x=list_var\r\n",
        "  for i in range(length):\r\n",
        "    for j in range(length):\r\n",
        "      if x[list_index[i]]> x[list_index[j]]:\r\n",
        "        temp=list_index[i]\r\n",
        "        list_index[i]=list_index[j]\r\n",
        "        list_index[j]=temp\r\n",
        "  return list_index"
      ],
      "execution_count": 147,
      "outputs": []
    },
    {
      "cell_type": "code",
      "metadata": {
        "id": "ZfRNEyemLBOb"
      },
      "source": [
        "def bot_response(user_input):\r\n",
        "  user_input =user_input.lower()\r\n",
        "  sentence_list.append(user_input)\r\n",
        "  bot_response= ''\r\n",
        "  cm=CountVectorizer().fit_transform(sentence_list)\r\n",
        "  similarity_scores=cosine_similarity(cm[-1], cm)\r\n",
        "  similarity_scores_list =similarity_scores.flatten()\r\n",
        "  index= index_sort(similarity_scores_list)\r\n",
        "  index=index[1:]\r\n",
        "  response_flag=0\r\n",
        "\r\n",
        "  j=0\r\n",
        "  for i in range(len(index)):\r\n",
        "    if similarity_scores_list[index[i]]>0.0:\r\n",
        "      bot_response=bot_response+' '+sentence_list[index[i]]\r\n",
        "      response_flag=1\r\n",
        "      j=j+1\r\n",
        "    if j>2:\r\n",
        "      break\r\n",
        "  if response_flag==0:\r\n",
        "      bot_response=bot_response+' '+\"I apologize I don't know.\"\r\n",
        "  \r\n",
        "  sentence_list.remove(user_input)\r\n",
        "\r\n",
        "  return bot_response"
      ],
      "execution_count": 148,
      "outputs": []
    },
    {
      "cell_type": "code",
      "metadata": {
        "colab": {
          "base_uri": "https://localhost:8080/"
        },
        "id": "xrGWMDGHzSRX",
        "outputId": "97c9016a-d18d-43ec-89cf-0aa0b2d34931"
      },
      "source": [
        "print('Health_Bot: I will ans your health related queries')\r\n",
        "\r\n",
        "exit_list=['exit','bye']\r\n",
        "\r\n",
        "while(True):\r\n",
        "  user_input=input()\r\n",
        "  if user_input.lower() in exit_list:\r\n",
        "    print('Health_Bot: Bye, chat with you later!')\r\n",
        "    break;\r\n",
        "  else:\r\n",
        "    if greeting_response(user_input)!=None:\r\n",
        "      print(\"Health_Bot: \"+greeting_response(user_input))\r\n",
        "    else:\r\n",
        "      print('Health_Bot: '+bot_response(user_input))\r\n"
      ],
      "execution_count": null,
      "outputs": [
        {
          "output_type": "stream",
          "text": [
            "Health_Bot: I will ans your health related queries\n",
            "am having severe fever\n",
            "Health_Bot: Take a paracetamol\n"
          ],
          "name": "stdout"
        }
      ]
    },
    {
      "cell_type": "code",
      "metadata": {
        "id": "hIKgbe7P2U-H"
      },
      "source": [
        ""
      ],
      "execution_count": null,
      "outputs": []
    }
  ]
}